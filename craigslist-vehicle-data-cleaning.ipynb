{
 "cells": [
  {
   "cell_type": "markdown",
   "id": "3bf11696",
   "metadata": {
    "papermill": {
     "duration": 0.004687,
     "end_time": "2022-11-03T16:46:40.681681",
     "exception": false,
     "start_time": "2022-11-03T16:46:40.676994",
     "status": "completed"
    },
    "tags": []
   },
   "source": [
    "# Craigslist Vehicle Data Cleaning\n",
    "### Author: Pavel Yurchenko\n",
    "### Date: August 2022\n",
    "\n",
    "Using the dataset found at (https://www.kaggle.com/datasets/austinreese/craigslist-carstrucks-data)\n",
    "this program will clean the entries to enable consistent analysis for the purposes of a quick overview of used vehicle market."
   ]
  },
  {
   "cell_type": "markdown",
   "id": "988089b5",
   "metadata": {
    "papermill": {
     "duration": 0.003568,
     "end_time": "2022-11-03T16:46:40.689059",
     "exception": false,
     "start_time": "2022-11-03T16:46:40.685491",
     "status": "completed"
    },
    "tags": []
   },
   "source": [
    "### Imports and Loading in Data"
   ]
  },
  {
   "cell_type": "code",
   "execution_count": 1,
   "id": "10bff220",
   "metadata": {
    "execution": {
     "iopub.execute_input": "2022-11-03T16:46:40.698495Z",
     "iopub.status.busy": "2022-11-03T16:46:40.698024Z",
     "iopub.status.idle": "2022-11-03T16:46:40.707948Z",
     "shell.execute_reply": "2022-11-03T16:46:40.706975Z"
    },
    "papermill": {
     "duration": 0.017868,
     "end_time": "2022-11-03T16:46:40.710601",
     "exception": false,
     "start_time": "2022-11-03T16:46:40.692733",
     "status": "completed"
    },
    "tags": []
   },
   "outputs": [],
   "source": [
    "#Import Statements\n",
    "import pandas as pd\n",
    "import numpy as np\n",
    "import os"
   ]
  },
  {
   "cell_type": "code",
   "execution_count": 2,
   "id": "6f716c34",
   "metadata": {
    "execution": {
     "iopub.execute_input": "2022-11-03T16:46:40.719992Z",
     "iopub.status.busy": "2022-11-03T16:46:40.719535Z",
     "iopub.status.idle": "2022-11-03T16:47:27.088666Z",
     "shell.execute_reply": "2022-11-03T16:47:27.087661Z"
    },
    "papermill": {
     "duration": 46.376991,
     "end_time": "2022-11-03T16:47:27.091353",
     "exception": false,
     "start_time": "2022-11-03T16:46:40.714362",
     "status": "completed"
    },
    "scrolled": true,
    "tags": []
   },
   "outputs": [],
   "source": [
    "###Loading in the data into a dataframe (df)\n",
    "\n",
    "df = pd.read_csv('/kaggle/input/craigslist-carstrucks-data/vehicles.csv')"
   ]
  },
  {
   "cell_type": "code",
   "execution_count": 3,
   "id": "44feb8f3",
   "metadata": {
    "execution": {
     "iopub.execute_input": "2022-11-03T16:47:27.101200Z",
     "iopub.status.busy": "2022-11-03T16:47:27.100730Z",
     "iopub.status.idle": "2022-11-03T16:47:27.111412Z",
     "shell.execute_reply": "2022-11-03T16:47:27.110167Z"
    },
    "papermill": {
     "duration": 0.018784,
     "end_time": "2022-11-03T16:47:27.113983",
     "exception": false,
     "start_time": "2022-11-03T16:47:27.095199",
     "status": "completed"
    },
    "tags": []
   },
   "outputs": [
    {
     "name": "stdout",
     "output_type": "stream",
     "text": [
      "Total Number of Entries = 426880\n"
     ]
    },
    {
     "data": {
      "text/plain": [
       "Index(['id', 'url', 'region', 'region_url', 'price', 'year', 'manufacturer',\n",
       "       'model', 'condition', 'cylinders', 'fuel', 'odometer', 'title_status',\n",
       "       'transmission', 'VIN', 'drive', 'size', 'type', 'paint_color',\n",
       "       'image_url', 'description', 'county', 'state', 'lat', 'long',\n",
       "       'posting_date'],\n",
       "      dtype='object')"
      ]
     },
     "execution_count": 3,
     "metadata": {},
     "output_type": "execute_result"
    }
   ],
   "source": [
    "### Printing summary of raw data\n",
    "print(\"Total Number of Entries =\",len(df))\n",
    "df.columns"
   ]
  },
  {
   "cell_type": "markdown",
   "id": "4573d171",
   "metadata": {
    "papermill": {
     "duration": 0.003476,
     "end_time": "2022-11-03T16:47:27.121681",
     "exception": false,
     "start_time": "2022-11-03T16:47:27.118205",
     "status": "completed"
    },
    "tags": []
   },
   "source": [
    "### Deleting Un-needed Columns"
   ]
  },
  {
   "cell_type": "code",
   "execution_count": 4,
   "id": "30f31266",
   "metadata": {
    "execution": {
     "iopub.execute_input": "2022-11-03T16:47:27.131025Z",
     "iopub.status.busy": "2022-11-03T16:47:27.130582Z",
     "iopub.status.idle": "2022-11-03T16:47:27.214086Z",
     "shell.execute_reply": "2022-11-03T16:47:27.212857Z"
    },
    "papermill": {
     "duration": 0.091465,
     "end_time": "2022-11-03T16:47:27.216899",
     "exception": false,
     "start_time": "2022-11-03T16:47:27.125434",
     "status": "completed"
    },
    "tags": []
   },
   "outputs": [
    {
     "data": {
      "text/plain": [
       "Index(['id', 'region', 'price', 'year', 'manufacturer', 'model', 'condition',\n",
       "       'cylinders', 'odometer', 'title_status', 'VIN', 'paint_color', 'state',\n",
       "       'lat', 'long', 'posting_date'],\n",
       "      dtype='object')"
      ]
     },
     "execution_count": 4,
     "metadata": {},
     "output_type": "execute_result"
    }
   ],
   "source": [
    "df_clean = df.drop(columns=['url','region_url','fuel','transmission','drive','size','type','image_url','description','county'])\n",
    "df_clean.columns"
   ]
  },
  {
   "cell_type": "markdown",
   "id": "1c95c670",
   "metadata": {
    "papermill": {
     "duration": 0.003497,
     "end_time": "2022-11-03T16:47:27.224394",
     "exception": false,
     "start_time": "2022-11-03T16:47:27.220897",
     "status": "completed"
    },
    "tags": []
   },
   "source": [
    "### Deleting Entries with Null Variables"
   ]
  },
  {
   "cell_type": "code",
   "execution_count": 5,
   "id": "4447d09e",
   "metadata": {
    "execution": {
     "iopub.execute_input": "2022-11-03T16:47:27.233493Z",
     "iopub.status.busy": "2022-11-03T16:47:27.233042Z",
     "iopub.status.idle": "2022-11-03T16:47:27.481655Z",
     "shell.execute_reply": "2022-11-03T16:47:27.480456Z"
    },
    "papermill": {
     "duration": 0.256202,
     "end_time": "2022-11-03T16:47:27.484263",
     "exception": false,
     "start_time": "2022-11-03T16:47:27.228061",
     "status": "completed"
    },
    "scrolled": true,
    "tags": []
   },
   "outputs": [
    {
     "name": "stdout",
     "output_type": "stream",
     "text": [
      "Total Original Entry Count = 426880\n",
      "Total Null Entry Drop Count = 74273\n",
      "Total Non-Null Entry Count = 352607\n"
     ]
    }
   ],
   "source": [
    "df_clean = df_clean.dropna()\n",
    "\n",
    "#Printing Entry Reduction\n",
    "print(\"Total Original Entry Count =\",len(df))\n",
    "print(\"Total Null Entry Drop Count =\",len(df_clean))\n",
    "print(\"Total Non-Null Entry Count =\",len(df)-len(df_clean))"
   ]
  },
  {
   "cell_type": "markdown",
   "id": "0cfb420c",
   "metadata": {
    "papermill": {
     "duration": 0.004122,
     "end_time": "2022-11-03T16:47:27.492499",
     "exception": false,
     "start_time": "2022-11-03T16:47:27.488377",
     "status": "completed"
    },
    "tags": []
   },
   "source": [
    "### Deleting Duplicate Entries"
   ]
  },
  {
   "cell_type": "code",
   "execution_count": 6,
   "id": "39c22795",
   "metadata": {
    "execution": {
     "iopub.execute_input": "2022-11-03T16:47:27.502943Z",
     "iopub.status.busy": "2022-11-03T16:47:27.502489Z",
     "iopub.status.idle": "2022-11-03T16:47:27.541130Z",
     "shell.execute_reply": "2022-11-03T16:47:27.539856Z"
    },
    "papermill": {
     "duration": 0.047152,
     "end_time": "2022-11-03T16:47:27.543669",
     "exception": false,
     "start_time": "2022-11-03T16:47:27.496517",
     "status": "completed"
    },
    "scrolled": true,
    "tags": []
   },
   "outputs": [
    {
     "name": "stdout",
     "output_type": "stream",
     "text": [
      "Total Entries Before Duplicate Deletion = 74273\n",
      "Total Entries After Duplicate Deletion = 35718\n",
      "Total Duplicate Entries Delete = 38555\n"
     ]
    }
   ],
   "source": [
    "len_pre_delete = len(df_clean)\n",
    "\n",
    "#Deleteing Duplicate Entries\n",
    "df_clean = df_clean.drop_duplicates(subset=['VIN'])\n",
    "\n",
    "#Printing the difference between pre and post duplicate delete\n",
    "print(\"Total Entries Before Duplicate Deletion =\",len_pre_delete)\n",
    "print(\"Total Entries After Duplicate Deletion =\",len(df_clean))\n",
    "print(\"Total Duplicate Entries Delete =\",len_pre_delete-len(df_clean))\n",
    "\n"
   ]
  },
  {
   "cell_type": "markdown",
   "id": "24b73b9f",
   "metadata": {
    "papermill": {
     "duration": 0.003761,
     "end_time": "2022-11-03T16:47:27.551549",
     "exception": false,
     "start_time": "2022-11-03T16:47:27.547788",
     "status": "completed"
    },
    "tags": []
   },
   "source": [
    "### Clean data export"
   ]
  },
  {
   "cell_type": "code",
   "execution_count": 7,
   "id": "87ed4448",
   "metadata": {
    "execution": {
     "iopub.execute_input": "2022-11-03T16:47:27.561590Z",
     "iopub.status.busy": "2022-11-03T16:47:27.561182Z",
     "iopub.status.idle": "2022-11-03T16:47:45.159461Z",
     "shell.execute_reply": "2022-11-03T16:47:45.158364Z"
    },
    "papermill": {
     "duration": 17.606747,
     "end_time": "2022-11-03T16:47:45.162358",
     "exception": false,
     "start_time": "2022-11-03T16:47:27.555611",
     "status": "completed"
    },
    "tags": []
   },
   "outputs": [],
   "source": [
    "#Excel Export\n",
    "with pd.ExcelWriter('CraiglistListingsCleaned.xlsx') as writer:  \n",
    "    df_clean.to_excel(writer, sheet_name='Listings')"
   ]
  }
 ],
 "metadata": {
  "kernelspec": {
   "display_name": "Python 3",
   "language": "python",
   "name": "python3"
  },
  "language_info": {
   "codemirror_mode": {
    "name": "ipython",
    "version": 3
   },
   "file_extension": ".py",
   "mimetype": "text/x-python",
   "name": "python",
   "nbconvert_exporter": "python",
   "pygments_lexer": "ipython3",
   "version": "3.7.12"
  },
  "papermill": {
   "default_parameters": {},
   "duration": 75.404995,
   "end_time": "2022-11-03T16:47:46.692555",
   "environment_variables": {},
   "exception": null,
   "input_path": "__notebook__.ipynb",
   "output_path": "__notebook__.ipynb",
   "parameters": {},
   "start_time": "2022-11-03T16:46:31.287560",
   "version": "2.3.4"
  }
 },
 "nbformat": 4,
 "nbformat_minor": 5
}
