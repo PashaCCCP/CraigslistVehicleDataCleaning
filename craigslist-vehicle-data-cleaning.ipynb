{
 "cells": [
  {
   "cell_type": "markdown",
   "id": "ed02e9ec",
   "metadata": {
    "papermill": {
     "duration": 0.004892,
     "end_time": "2022-10-14T14:20:19.700494",
     "exception": false,
     "start_time": "2022-10-14T14:20:19.695602",
     "status": "completed"
    },
    "tags": []
   },
   "source": [
    "# Craigslist Vehicle Data Cleaning\n",
    "### Author: Pavel Yurchenko\n",
    "### Date: August 2022\n",
    "\n",
    "Using the dataset found at (https://www.kaggle.com/datasets/austinreese/craigslist-carstrucks-data)\n",
    "this program will clean the entries to enable consistent analysis for the purposes of a quick overview of used vehicle market."
   ]
  },
  {
   "cell_type": "markdown",
   "id": "d886ae87",
   "metadata": {
    "papermill": {
     "duration": 0.003508,
     "end_time": "2022-10-14T14:20:19.707831",
     "exception": false,
     "start_time": "2022-10-14T14:20:19.704323",
     "status": "completed"
    },
    "tags": []
   },
   "source": [
    "### Imports and Loading in Data"
   ]
  },
  {
   "cell_type": "code",
   "execution_count": 1,
   "id": "562fd7b8",
   "metadata": {
    "execution": {
     "iopub.execute_input": "2022-10-14T14:20:19.716867Z",
     "iopub.status.busy": "2022-10-14T14:20:19.716392Z",
     "iopub.status.idle": "2022-10-14T14:20:19.726616Z",
     "shell.execute_reply": "2022-10-14T14:20:19.725302Z"
    },
    "papermill": {
     "duration": 0.018063,
     "end_time": "2022-10-14T14:20:19.729393",
     "exception": false,
     "start_time": "2022-10-14T14:20:19.711330",
     "status": "completed"
    },
    "tags": []
   },
   "outputs": [],
   "source": [
    "#Import Statements\n",
    "import pandas as pd\n",
    "import numpy as np\n",
    "import os"
   ]
  },
  {
   "cell_type": "code",
   "execution_count": 2,
   "id": "751a989a",
   "metadata": {
    "execution": {
     "iopub.execute_input": "2022-10-14T14:20:19.738900Z",
     "iopub.status.busy": "2022-10-14T14:20:19.738125Z",
     "iopub.status.idle": "2022-10-14T14:21:06.072475Z",
     "shell.execute_reply": "2022-10-14T14:21:06.071286Z"
    },
    "papermill": {
     "duration": 46.342296,
     "end_time": "2022-10-14T14:21:06.075448",
     "exception": false,
     "start_time": "2022-10-14T14:20:19.733152",
     "status": "completed"
    },
    "scrolled": true,
    "tags": []
   },
   "outputs": [],
   "source": [
    "###Loading in the data into a dataframe (df)\n",
    "\n",
    "df = pd.read_csv('/kaggle/input/craigslist-carstrucks-data/vehicles.csv')"
   ]
  },
  {
   "cell_type": "code",
   "execution_count": 3,
   "id": "f225fe21",
   "metadata": {
    "execution": {
     "iopub.execute_input": "2022-10-14T14:21:06.084701Z",
     "iopub.status.busy": "2022-10-14T14:21:06.084284Z",
     "iopub.status.idle": "2022-10-14T14:21:06.096200Z",
     "shell.execute_reply": "2022-10-14T14:21:06.094383Z"
    },
    "papermill": {
     "duration": 0.019706,
     "end_time": "2022-10-14T14:21:06.099012",
     "exception": false,
     "start_time": "2022-10-14T14:21:06.079306",
     "status": "completed"
    },
    "tags": []
   },
   "outputs": [
    {
     "name": "stdout",
     "output_type": "stream",
     "text": [
      "Total Number of Entries = 426880\n"
     ]
    },
    {
     "data": {
      "text/plain": [
       "Index(['id', 'url', 'region', 'region_url', 'price', 'year', 'manufacturer',\n",
       "       'model', 'condition', 'cylinders', 'fuel', 'odometer', 'title_status',\n",
       "       'transmission', 'VIN', 'drive', 'size', 'type', 'paint_color',\n",
       "       'image_url', 'description', 'county', 'state', 'lat', 'long',\n",
       "       'posting_date'],\n",
       "      dtype='object')"
      ]
     },
     "execution_count": 3,
     "metadata": {},
     "output_type": "execute_result"
    }
   ],
   "source": [
    "### Printing summary of raw data\n",
    "print(\"Total Number of Entries =\",len(df))\n",
    "df.columns"
   ]
  },
  {
   "cell_type": "markdown",
   "id": "92478c9f",
   "metadata": {
    "papermill": {
     "duration": 0.003471,
     "end_time": "2022-10-14T14:21:06.106267",
     "exception": false,
     "start_time": "2022-10-14T14:21:06.102796",
     "status": "completed"
    },
    "tags": []
   },
   "source": [
    "### Deleting Un-needed Columns"
   ]
  },
  {
   "cell_type": "code",
   "execution_count": 4,
   "id": "55402408",
   "metadata": {
    "execution": {
     "iopub.execute_input": "2022-10-14T14:21:06.115453Z",
     "iopub.status.busy": "2022-10-14T14:21:06.114914Z",
     "iopub.status.idle": "2022-10-14T14:21:06.195177Z",
     "shell.execute_reply": "2022-10-14T14:21:06.193839Z"
    },
    "papermill": {
     "duration": 0.087582,
     "end_time": "2022-10-14T14:21:06.197582",
     "exception": false,
     "start_time": "2022-10-14T14:21:06.110000",
     "status": "completed"
    },
    "tags": []
   },
   "outputs": [
    {
     "data": {
      "text/plain": [
       "Index(['id', 'region', 'price', 'year', 'manufacturer', 'model', 'condition',\n",
       "       'cylinders', 'odometer', 'title_status', 'VIN', 'paint_color', 'state',\n",
       "       'lat', 'long', 'posting_date'],\n",
       "      dtype='object')"
      ]
     },
     "execution_count": 4,
     "metadata": {},
     "output_type": "execute_result"
    }
   ],
   "source": [
    "df_clean = df.drop(columns=['url','region_url','fuel','transmission','drive','size','type','image_url','description','county'])\n",
    "df_clean.columns"
   ]
  },
  {
   "cell_type": "markdown",
   "id": "352aba3e",
   "metadata": {
    "papermill": {
     "duration": 0.003595,
     "end_time": "2022-10-14T14:21:06.205254",
     "exception": false,
     "start_time": "2022-10-14T14:21:06.201659",
     "status": "completed"
    },
    "tags": []
   },
   "source": [
    "### Deleting Entries with Null Variables"
   ]
  },
  {
   "cell_type": "code",
   "execution_count": 5,
   "id": "a37fb9dc",
   "metadata": {
    "execution": {
     "iopub.execute_input": "2022-10-14T14:21:06.215354Z",
     "iopub.status.busy": "2022-10-14T14:21:06.214317Z",
     "iopub.status.idle": "2022-10-14T14:21:06.464153Z",
     "shell.execute_reply": "2022-10-14T14:21:06.462262Z"
    },
    "papermill": {
     "duration": 0.259094,
     "end_time": "2022-10-14T14:21:06.468098",
     "exception": false,
     "start_time": "2022-10-14T14:21:06.209004",
     "status": "completed"
    },
    "scrolled": true,
    "tags": []
   },
   "outputs": [
    {
     "name": "stdout",
     "output_type": "stream",
     "text": [
      "Total Original Entry Count = 426880\n",
      "Total Null Entry Drop Count = 74273\n",
      "Total Non-Null Entry Count = 352607\n"
     ]
    }
   ],
   "source": [
    "df_clean = df_clean.dropna()\n",
    "\n",
    "#Printing Entry Reduction\n",
    "print(\"Total Original Entry Count =\",len(df))\n",
    "print(\"Total Null Entry Drop Count =\",len(df_clean))\n",
    "print(\"Total Non-Null Entry Count =\",len(df)-len(df_clean))"
   ]
  },
  {
   "cell_type": "markdown",
   "id": "a6ba8a2a",
   "metadata": {
    "papermill": {
     "duration": 0.004056,
     "end_time": "2022-10-14T14:21:06.476763",
     "exception": false,
     "start_time": "2022-10-14T14:21:06.472707",
     "status": "completed"
    },
    "tags": []
   },
   "source": [
    "### Deleting Duplicate Entries"
   ]
  },
  {
   "cell_type": "code",
   "execution_count": 6,
   "id": "09390a6b",
   "metadata": {
    "execution": {
     "iopub.execute_input": "2022-10-14T14:21:06.487942Z",
     "iopub.status.busy": "2022-10-14T14:21:06.487508Z",
     "iopub.status.idle": "2022-10-14T14:21:06.527467Z",
     "shell.execute_reply": "2022-10-14T14:21:06.525905Z"
    },
    "papermill": {
     "duration": 0.049109,
     "end_time": "2022-10-14T14:21:06.530321",
     "exception": false,
     "start_time": "2022-10-14T14:21:06.481212",
     "status": "completed"
    },
    "scrolled": true,
    "tags": []
   },
   "outputs": [
    {
     "name": "stdout",
     "output_type": "stream",
     "text": [
      "Total Entries Before Duplicate Deletion = 74273\n",
      "Total Entries After Duplicate Deletion = 35718\n",
      "Total Duplicate Entries Delete = 38555\n"
     ]
    }
   ],
   "source": [
    "len_pre_delete = len(df_clean)\n",
    "\n",
    "#Deleteing Duplicate Entries\n",
    "df_clean = df_clean.drop_duplicates(subset=['VIN'])\n",
    "\n",
    "#Printing the difference between pre and post duplicate delete\n",
    "print(\"Total Entries Before Duplicate Deletion =\",len_pre_delete)\n",
    "print(\"Total Entries After Duplicate Deletion =\",len(df_clean))\n",
    "print(\"Total Duplicate Entries Delete =\",len_pre_delete-len(df_clean))\n",
    "\n"
   ]
  },
  {
   "cell_type": "markdown",
   "id": "b49cb301",
   "metadata": {
    "papermill": {
     "duration": 0.003847,
     "end_time": "2022-10-14T14:21:06.538271",
     "exception": false,
     "start_time": "2022-10-14T14:21:06.534424",
     "status": "completed"
    },
    "tags": []
   },
   "source": [
    "### Clean data export"
   ]
  },
  {
   "cell_type": "code",
   "execution_count": 7,
   "id": "53edcf7b",
   "metadata": {
    "execution": {
     "iopub.execute_input": "2022-10-14T14:21:06.548174Z",
     "iopub.status.busy": "2022-10-14T14:21:06.547770Z",
     "iopub.status.idle": "2022-10-14T14:21:24.130878Z",
     "shell.execute_reply": "2022-10-14T14:21:24.129968Z"
    },
    "papermill": {
     "duration": 17.59125,
     "end_time": "2022-10-14T14:21:24.133585",
     "exception": false,
     "start_time": "2022-10-14T14:21:06.542335",
     "status": "completed"
    },
    "tags": []
   },
   "outputs": [],
   "source": [
    "#Excel Export\n",
    "with pd.ExcelWriter('CraiglistListingsCleaned.xlsx') as writer:  \n",
    "    df_clean.to_excel(writer, sheet_name='Listings')"
   ]
  }
 ],
 "metadata": {
  "kernelspec": {
   "display_name": "Python 3",
   "language": "python",
   "name": "python3"
  },
  "language_info": {
   "codemirror_mode": {
    "name": "ipython",
    "version": 3
   },
   "file_extension": ".py",
   "mimetype": "text/x-python",
   "name": "python",
   "nbconvert_exporter": "python",
   "pygments_lexer": "ipython3",
   "version": "3.7.12"
  },
  "papermill": {
   "default_parameters": {},
   "duration": 75.356623,
   "end_time": "2022-10-14T14:21:25.565786",
   "environment_variables": {},
   "exception": null,
   "input_path": "__notebook__.ipynb",
   "output_path": "__notebook__.ipynb",
   "parameters": {},
   "start_time": "2022-10-14T14:20:10.209163",
   "version": "2.3.4"
  }
 },
 "nbformat": 4,
 "nbformat_minor": 5
}
